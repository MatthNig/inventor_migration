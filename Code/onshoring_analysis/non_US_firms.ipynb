{
 "cells": [
  {
   "cell_type": "markdown",
   "metadata": {},
   "source": [
    "## Load libraries and set directories"
   ]
  },
  {
   "cell_type": "code",
   "execution_count": 234,
   "metadata": {},
   "outputs": [
    {
     "name": "stdout",
     "output_type": "stream",
     "text": [
      "All packages loaded.\n"
     ]
    }
   ],
   "source": [
    "# Import libraries\n",
    "import requests\n",
    "import os\n",
    "import pandas\n",
    "from bs4 import BeautifulSoup as bs\n",
    "\n",
    "print(\"All packages loaded.\")"
   ]
  },
  {
   "cell_type": "code",
   "execution_count": 235,
   "metadata": {},
   "outputs": [
    {
     "name": "stdout",
     "output_type": "stream",
     "text": [
      "Directories specified\n"
     ]
    }
   ],
   "source": [
    "# Set directories\n",
    "path = \"C:/Users/Matthias/Documents/GithubRepos/inventor_migration\"\n",
    "os.chdir(path)\n",
    "print(\"Directories specified\")"
   ]
  },
  {
   "cell_type": "markdown",
   "metadata": {},
   "source": [
    "## Select largest countries"
   ]
  },
  {
   "cell_type": "code",
   "execution_count": 236,
   "metadata": {},
   "outputs": [
    {
     "name": "stdout",
     "output_type": "stream",
     "text": [
      "Wikipedia page loaded\n"
     ]
    }
   ],
   "source": [
    "# Access Wikipedia:\n",
    "url = \"https://en.wikipedia.org/wiki/List_of_countries_by_GDP_(nominal)\"\n",
    "wiki_response = requests.get(url)\n",
    "if wiki_response != []:\n",
    "    print(\"Wikipedia page loaded\")"
   ]
  },
  {
   "cell_type": "code",
   "execution_count": 237,
   "metadata": {},
   "outputs": [
    {
     "name": "stdout",
     "output_type": "stream",
     "text": [
      "Retrieved the 60 largest economies based on IMF 2020 estimates.\n"
     ]
    },
    {
     "data": {
      "text/plain": [
       "['Algeria',\n",
       " 'Argentina',\n",
       " 'Australia',\n",
       " 'Austria',\n",
       " 'Bangladesh',\n",
       " 'Belgium',\n",
       " 'Brazil',\n",
       " 'Canada',\n",
       " 'Chile',\n",
       " 'China',\n",
       " 'Colombia',\n",
       " 'Czech Republic',\n",
       " 'Denmark',\n",
       " 'Egypt',\n",
       " 'Finland',\n",
       " 'France',\n",
       " 'Germany',\n",
       " 'Greece',\n",
       " 'Hungary',\n",
       " 'India',\n",
       " 'Indonesia',\n",
       " 'Iran',\n",
       " 'Iraq',\n",
       " 'Israel',\n",
       " 'Italy',\n",
       " 'Japan',\n",
       " 'Kazakhstan',\n",
       " 'Kuwait',\n",
       " 'Malaysia',\n",
       " 'Mexico',\n",
       " 'Morocco',\n",
       " 'Netherlands',\n",
       " 'New Zealand',\n",
       " 'Nigeria',\n",
       " 'Norway',\n",
       " 'Pakistan',\n",
       " 'Peru',\n",
       " 'Philippines',\n",
       " 'Poland',\n",
       " 'Portugal',\n",
       " 'Qatar',\n",
       " 'Republic of Ireland',\n",
       " 'Romania',\n",
       " 'Russia',\n",
       " 'Saudi Arabia',\n",
       " 'Singapore',\n",
       " 'Slovakia',\n",
       " 'South Africa',\n",
       " 'South Korea',\n",
       " 'Spain',\n",
       " 'Sweden',\n",
       " 'Switzerland',\n",
       " 'Taiwan',\n",
       " 'Thailand',\n",
       " 'Turkey',\n",
       " 'Ukraine',\n",
       " 'United Arab Emirates',\n",
       " 'United Kingdom',\n",
       " 'United States',\n",
       " 'Vietnam']"
      ]
     },
     "execution_count": 237,
     "metadata": {},
     "output_type": "execute_result"
    }
   ],
   "source": [
    "# find all wikitables:\n",
    "soup = BeautifulSoup(wiki_response.content, \"html.parser\")\n",
    "wiki_tables = soup.find(\"table\",{\"class\":\"wikitable sortable\"})\n",
    "\n",
    "# extract countries\n",
    "links = wiki_tables.find_all(\"a\") # works\n",
    "countries = []\n",
    "for link in links:\n",
    "    countries.append(link.get(\"title\"))\n",
    "    \n",
    "# clean countries and take the 60 first countries\n",
    "countries = [x for x in countries if x != None]\n",
    "countries.remove(\"China\")\n",
    "countries.remove(\"Hong Kong\")\n",
    "countries = countries[1:61]\n",
    "countries.sort()\n",
    "print(\"Retrieved the\", len(countries), \"largest economies based on IMF 2020 estimates.\")\n",
    "countries"
   ]
  },
  {
   "cell_type": "markdown",
   "metadata": {},
   "source": [
    "## Get the largest companies for these countries"
   ]
  },
  {
   "cell_type": "code",
   "execution_count": 239,
   "metadata": {},
   "outputs": [],
   "source": [
    "# For every of these 60 countries, retrieve the largest firms using \n",
    "# https://en.wikipedia.org/wiki/List_of_companies_of_COUNTRY\n",
    "\n",
    "# define a function and make a for loop on it"
   ]
  },
  {
   "cell_type": "markdown",
   "metadata": {},
   "source": [
    "## Save the company list "
   ]
  },
  {
   "cell_type": "markdown",
   "metadata": {},
   "source": [
    "#### Ressources\n",
    "\n",
    "https://www.crummy.com/software/BeautifulSoup/bs4/doc/#find-all\n",
    "\n",
    "https://medium.com/analytics-vidhya/web-scraping-wiki-tables-using-beautifulsoup-and-python-6b9ea26d8722\n"
   ]
  },
  {
   "cell_type": "code",
   "execution_count": null,
   "metadata": {},
   "outputs": [],
   "source": []
  }
 ],
 "metadata": {
  "kernelspec": {
   "display_name": "inventor_migration",
   "language": "python",
   "name": "inventor_migration"
  },
  "language_info": {
   "codemirror_mode": {
    "name": "ipython",
    "version": 3
   },
   "file_extension": ".py",
   "mimetype": "text/x-python",
   "name": "python",
   "nbconvert_exporter": "python",
   "pygments_lexer": "ipython3",
   "version": "3.7.9"
  }
 },
 "nbformat": 4,
 "nbformat_minor": 4
}
